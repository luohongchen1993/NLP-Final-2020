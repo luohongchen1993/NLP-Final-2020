{
 "cells": [
  {
   "cell_type": "code",
   "execution_count": 1,
   "metadata": {},
   "outputs": [
    {
     "name": "stderr",
     "output_type": "stream",
     "text": [
      "\u001b[34m\u001b[1mwandb\u001b[0m: \u001b[33mWARNING\u001b[0m W&B installed but not logged in.  Run `wandb login` or set the WANDB_API_KEY env variable.\n"
     ]
    }
   ],
   "source": [
    "import os\n",
    "import gc\n",
    "import numpy as np\n",
    "import pandas as pd\n",
    "import tensorflow as tf\n",
    "from tensorflow.keras.layers import Dense, Input, BatchNormalization, Dropout, Average, Concatenate, GlobalAveragePooling1D, GlobalMaxPooling1D\n",
    "from tensorflow.keras.optimizers import Adam\n",
    "from tensorflow.keras.models import Model\n",
    "from tensorflow.keras.callbacks import ModelCheckpoint\n",
    "from kaggle_datasets import KaggleDatasets\n",
    "import transformers\n",
    "from transformers import TFAutoModel, AutoTokenizer\n",
    "from tqdm.notebook import tqdm\n",
    "from tokenizers import Tokenizer, models, pre_tokenizers, decoders, processors\n",
    "from sklearn.metrics import roc_auc_score\n",
    "from sklearn.model_selection import train_test_split, KFold, GroupKFold\n",
    "import matplotlib.pyplot as plt"
   ]
  },
  {
   "cell_type": "code",
   "execution_count": 2,
   "metadata": {},
   "outputs": [
    {
     "name": "stdout",
     "output_type": "stream",
     "text": [
      "Running on TPU  grpc://10.0.0.2:8470\n",
      "REPLICAS:  8\n"
     ]
    }
   ],
   "source": [
    "# Detect hardware, return appropriate distribution strategy\n",
    "try:\n",
    "    # TPU detection. No parameters necessary if TPU_NAME environment variable is\n",
    "    # set: this is always the case on Kaggle.\n",
    "    tpu = tf.distribute.cluster_resolver.TPUClusterResolver()\n",
    "    print('Running on TPU ', tpu.master())\n",
    "except ValueError:\n",
    "    tpu = None\n",
    "\n",
    "if tpu:\n",
    "    tf.config.experimental_connect_to_cluster(tpu)\n",
    "    tf.tpu.experimental.initialize_tpu_system(tpu)\n",
    "    strategy = tf.distribute.experimental.TPUStrategy(tpu)\n",
    "else:\n",
    "    # Default distribution strategy in Tensorflow. Works on CPU and single GPU.\n",
    "    strategy = tf.distribute.get_strategy()\n",
    "\n",
    "print(\"REPLICAS: \", strategy.num_replicas_in_sync)"
   ]
  },
  {
   "cell_type": "markdown",
   "execution_count": null,
   "metadata": {},
   "source": [
    "### Pre-set"
   ]
  },
  {
   "cell_type": "code",
   "execution_count": 3,
   "metadata": {},
   "outputs": [],
   "source": [
    "AUTO = tf.data.experimental.AUTOTUNE\n",
    "\n",
    "# Configuration\n",
    "BATCH_SIZE = 16 * strategy.num_replicas_in_sync\n",
    "MAX_LEN = 192\n",
    "PRESAVED_MODEL = \"/kaggle/input/jmt-mlm-pretrain-128/\"\n",
    "MODEL_PATH = r\"/kaggle/input/jmt-pretrain-tot-lang-info-v2/\"\n",
    "TOKENIZER_MODEL = 'jplu/tf-xlm-roberta-large'\n",
    "DATA_PATH = \"/kaggle/input/jmt-preprocess-lang-info-tta-v2/\"\n",
    "DATA_AUG_PATH = \"/kaggle/input/nlp-albumentations-xl-v3-test/\"\n",
    "OPUS_PATH = \"/kaggle/input/jmt-data-module-opus/\"\n",
    "SEED = 44"
   ]
  },
  {
   "cell_type": "markdown",
   "execution_count": null,
   "metadata": {},
   "source": [
    "### Original Dataset"
   ]
  },
  {
   "cell_type": "code",
   "execution_count": 4,
   "metadata": {},
   "outputs": [],
   "source": [
    "valid = pd.read_csv('/kaggle/input/jigsaw-multilingual-toxic-comment-classification/validation.csv')\n",
    "test = pd.read_csv('/kaggle/input/jigsaw-multilingual-toxic-comment-classification/test.csv')\n",
    "sub = pd.read_csv('/kaggle/input/jigsaw-multilingual-toxic-comment-classification/sample_submission.csv')"
   ]
  },
  {
   "cell_type": "markdown",
   "execution_count": null,
   "metadata": {},
   "source": [
    "## PL"
   ]
  },
  {
   "cell_type": "code",
   "execution_count": 5,
   "metadata": {},
   "outputs": [
    {
     "data": {
      "text/plain": [
       "(array([36296., 11188.,  6428.,  3521.,  2660.,  1534.,  1041.,   790.,\n",
       "          308.,    46.]),\n",
       " array([0.00475234, 0.07783199, 0.15091164, 0.22399129, 0.29707094,\n",
       "        0.37015059, 0.44323024, 0.51630988, 0.58938953, 0.66246918,\n",
       "        0.73554883]),\n",
       " <a list of 10 Patch objects>)"
      ]
     },
     "execution_count": 5,
     "metadata": {},
     "output_type": "execute_result"
    },
    {
     "data": {
      "image/png": "[encoded data removed]",
      "text/plain": [
       "<Figure size 432x288 with 1 Axes>"
      ]
     },
     "metadata": {
      "needs_background": "light"
     },
     "output_type": "display_data"
    }
   ],
   "source": [
    "pl_sub =  pd.read_csv('/kaggle/input/tot-blend-for-pl-0615/submission.csv')\n",
    "plt.hist(pl_sub.toxic)"
   ]
  },
  {
   "cell_type": "code",
   "execution_count": 6,
   "metadata": {},
   "outputs": [
    {
     "name": "stdout",
     "output_type": "stream",
     "text": [
      "0.15000313420673228\n",
      "63812\n"
     ]
    }
   ],
   "source": [
    "THRESHOLD = np.percentile(pl_sub.toxic, 85)\n",
    "y_test = (pl_sub.toxic.values>THRESHOLD).astype('int')\n",
    "print(np.mean(y_test))\n",
    "print(len(y_test))"
   ]
  },
  {
   "cell_type": "code",
   "execution_count": 7,
   "metadata": {},
   "outputs": [],
   "source": [
    "lang_test = test['lang'].values\n",
    "lang_wt = np.zeros(len(test))\n",
    "lang_wt[lang_test == 'it'] = 0.7\n",
    "lang_wt[lang_test == 'es'] = 0.8\n",
    "lang_wt[lang_test == 'pt'] = 0.9\n",
    "lang_wt[lang_test == 'fr'] = 1.0\n",
    "lang_wt[lang_test == 'ru'] = 1.1\n",
    "lang_wt[lang_test == 'tr'] = 1.2"
   ]
  },
  {
   "cell_type": "markdown",
   "execution_count": null,
   "metadata": {},
   "source": [
    "### Load Datasets from Data Module"
   ]
  },
  {
   "cell_type": "code",
   "execution_count": 8,
   "metadata": {},
   "outputs": [
    {
     "name": "stdout",
     "output_type": "stream",
     "text": [
      "CPU times: user 0 ns, sys: 1.96 s, total: 1.96 s\n",
      "Wall time: 2.41 s\n"
     ]
    }
   ],
   "source": [
    "%%time\n",
    "\n",
    "x_train = np.load(os.path.join(DATA_PATH, 'x_train.npy'))\n",
    "y_train = np.load(os.path.join(DATA_PATH, 'y_train.npy'))\n",
    "x_valid = np.load(os.path.join(DATA_PATH, 'x_valid.npy'))\n",
    "y_valid = np.load(os.path.join(DATA_PATH, 'y_valid.npy'))\n",
    "x_test = np.load(os.path.join(DATA_PATH, 'x_test.npy'))"
   ]
  },
  {
   "cell_type": "markdown",
   "execution_count": null,
   "metadata": {},
   "source": [
    "# ROC Callback"
   ]
  },
  {
   "cell_type": "code",
   "execution_count": 9,
   "metadata": {},
   "outputs": [],
   "source": [
    "from tensorflow.keras.callbacks import EarlyStopping, Callback\n",
    "from sklearn.metrics import roc_auc_score\n",
    "\n",
    "class RocAucCallback(Callback):\n",
    "    def __init__(self, valid, valid_ds):\n",
    "        self.valid = valid\n",
    "        self.valid_ds = valid_ds\n",
    "        # self.test_pred = []\n",
    "        \n",
    "    def on_epoch_end(self, epoch, logs=None):\n",
    "        print(roc_auc_score(self.valid['toxic'], self.model.predict(self.valid_ds)))"
   ]
  },
  {
   "cell_type": "markdown",
   "execution_count": null,
   "metadata": {},
   "source": [
    "# LR Scheduler"
   ]
  },
  {
   "cell_type": "code",
   "execution_count": 10,
   "metadata": {},
   "outputs": [],
   "source": [
    "def build_lrfn(lr_start=1e-5, lr_max=2e-5, \n",
    "               lr_min=1e-6, lr_rampup_epochs=5,\n",
    "               lr_sustain_epochs=0, lr_exp_decay=.8):\n",
    "\n",
    "    def lrfn(epoch):\n",
    "        if epoch < lr_rampup_epochs:\n",
    "            lr = (lr_max - lr_start) / lr_rampup_epochs * epoch + lr_start\n",
    "        elif epoch < lr_rampup_epochs + lr_sustain_epochs:\n",
    "            lr = lr_max\n",
    "        else:\n",
    "            lr = (lr_max - lr_min) * lr_exp_decay**(epoch - lr_rampup_epochs - lr_sustain_epochs) + lr_min\n",
    "        return lr\n",
    "    \n",
    "    return lrfn"
   ]
  },
  {
   "cell_type": "markdown",
   "execution_count": null,
   "metadata": {},
   "source": [
    "# Focal Loss"
   ]
  },
  {
   "cell_type": "code",
   "execution_count": 11,
   "metadata": {},
   "outputs": [],
   "source": [
    "from tensorflow.keras import backend as K\n",
    "\n",
    "def focal_loss(gamma=2., alpha=.2):\n",
    "    def focal_loss_fixed(y_true, y_pred):\n",
    "        pt_1 = tf.where(tf.equal(y_true, 1), y_pred, tf.ones_like(y_pred))\n",
    "        pt_0 = tf.where(tf.equal(y_true, 0), y_pred, tf.zeros_like(y_pred))\n",
    "        return -K.mean(alpha * K.pow(1. - pt_1, gamma) * K.log(pt_1)) - K.mean((1 - alpha) * K.pow(pt_0, gamma) * K.log(1. - pt_0))\n",
    "    return focal_loss_fixed"
   ]
  },
  {
   "cell_type": "markdown",
   "execution_count": null,
   "metadata": {},
   "source": [
    "# Build Model"
   ]
  },
  {
   "cell_type": "code",
   "execution_count": 12,
   "metadata": {},
   "outputs": [],
   "source": [
    "def build_model(transformer, loss='binary_crossentropy', max_len=512):\n",
    "    \"\"\"\n",
    "    https://www.kaggle.com/xhlulu/jigsaw-tpu-distilbert-with-huggingface-and-keras\n",
    "    \"\"\"\n",
    "    input_word_ids = Input(shape=(max_len,), dtype=tf.int32, name=\"input_word_ids\")\n",
    "    sequence_output = transformer(input_word_ids)[0]\n",
    "\n",
    "    mean_token = GlobalAveragePooling1D()(sequence_output)\n",
    "    max_token = GlobalMaxPooling1D()(sequence_output)\n",
    "    all_token = Concatenate(name = \"all_token\")([mean_token, max_token])\n",
    "    all_token = Dropout(0.3)(all_token)\n",
    "    out = Dense(1, activation='sigmoid')(all_token)\n",
    "    \n",
    "    \n",
    "    model = Model(inputs=input_word_ids, outputs=out)\n",
    "    model.compile(Adam(lr=6e-6), loss=loss, metrics=[tf.keras.metrics.AUC()])\n",
    "    \n",
    "    return model"
   ]
  },
  {
   "cell_type": "markdown",
   "execution_count": null,
   "metadata": {},
   "source": [
    "# Start Training"
   ]
  },
  {
   "cell_type": "code",
   "execution_count": 13,
   "metadata": {},
   "outputs": [],
   "source": [
    "import matplotlib.pyplot as plt\n",
    "\n",
    "early_stop_cb = EarlyStopping(monitor='val_auc', \n",
    "               mode='max',\n",
    "               restore_best_weights=True, \n",
    "               verbose=2,\n",
    "               patience=10)"
   ]
  },
  {
   "cell_type": "code",
   "execution_count": 14,
   "metadata": {},
   "outputs": [
    {
     "name": "stdout",
     "output_type": "stream",
     "text": [
      "\n",
      " Loading model weights \n",
      "\n",
      "load weights done\n",
      "\n"
     ]
    }
   ],
   "source": [
    "with strategy.scope():\n",
    "    transformer_layer = TFAutoModel.from_pretrained(PRESAVED_MODEL)\n",
    "    model = build_model(transformer_layer, loss=focal_loss(gamma=1.5), max_len=MAX_LEN)\n",
    "    \n",
    "print(\"\\n Loading model weights \\n\")\n",
    "\n",
    "model.load_weights(os.path.join(MODEL_PATH, \"model.h5\"))\n",
    "print(\"load weights done\\n\")"
   ]
  },
  {
   "cell_type": "markdown",
   "execution_count": null,
   "metadata": {},
   "source": [
    "### PL on aug test"
   ]
  },
  {
   "cell_type": "code",
   "execution_count": 15,
   "metadata": {},
   "outputs": [],
   "source": [
    "x_test_aug = np.load(os.path.join(DATA_AUG_PATH, 'x_test.npy'))\n",
    "# assign language code\n",
    "x_test_aug[:, 2:] = x_test_aug[:, 1:-1]\n",
    "x_test_aug[:, 1] = x_test[:, 1]"
   ]
  },
  {
   "cell_type": "code",
   "execution_count": 16,
   "metadata": {},
   "outputs": [
    {
     "data": {
      "text/plain": [
       "array([[     0,   4448,  52625, ...,      1,      1,      1],\n",
       "       [     0,    882,    417, ...,      1,      1,      1],\n",
       "       [     0,    217, 132554, ...,      1,      1,      1],\n",
       "       ...,\n",
       "       [     0,    217,   2083, ...,      1,      1,      1],\n",
       "       [     0,   4448, 191059, ...,      1,      1,      1],\n",
       "       [     0,     90,   1413, ...,      1,      1,      1]])"
      ]
     },
     "execution_count": 16,
     "metadata": {},
     "output_type": "execute_result"
    }
   ],
   "source": [
    "x_test"
   ]
  },
  {
   "cell_type": "code",
   "execution_count": 17,
   "metadata": {},
   "outputs": [
    {
     "data": {
      "text/plain": [
       "array([[    0,  4448,    40, ...,     1,     1,     1],\n",
       "       [    0,   882,   417, ...,     1,     1,     1],\n",
       "       [    0,   217,  1215, ...,     1,     1,     1],\n",
       "       ...,\n",
       "       [    0,   217,  2083, ...,     1,     1,     1],\n",
       "       [    0,  4448,  1945, ...,     1,     1,     1],\n",
       "       [    0,    90, 89412, ...,     1,     1,     1]])"
      ]
     },
     "execution_count": 17,
     "metadata": {},
     "output_type": "execute_result"
    }
   ],
   "source": [
    "x_test_aug"
   ]
  },
  {
   "cell_type": "code",
   "execution_count": 18,
   "metadata": {},
   "outputs": [
    {
     "name": "stdout",
     "output_type": "stream",
     "text": [
      "0.15000313420673228\n"
     ]
    }
   ],
   "source": [
    "y_test_aug = y_test.copy()\n",
    "print(np.mean(y_test_aug))"
   ]
  },
  {
   "cell_type": "markdown",
   "execution_count": null,
   "metadata": {},
   "source": [
    "### Merge data"
   ]
  },
  {
   "cell_type": "code",
   "execution_count": 19,
   "metadata": {},
   "outputs": [],
   "source": [
    "# sample opus and merge\n",
    "x_test_pl = np.concatenate((x_train[:120000],x_test,x_test_aug),axis=0)\n",
    "y_test = np.concatenate((y_train[:120000],y_test,y_test_aug),axis=0)"
   ]
  },
  {
   "cell_type": "code",
   "execution_count": 20,
   "metadata": {},
   "outputs": [],
   "source": [
    "weight_test = np.concatenate((np.ones(len(x_train)), lang_wt, lang_wt))"
   ]
  },
  {
   "cell_type": "code",
   "execution_count": 21,
   "metadata": {},
   "outputs": [],
   "source": [
    "#shuffle\n",
    "indices = np.arange(x_test_pl.shape[0])\n",
    "np.random.shuffle(indices)\n",
    "x_test_pl = x_test_pl[indices]\n",
    "y_test = y_test[indices]\n",
    "weight_test = weight_test[indices]"
   ]
  },
  {
   "cell_type": "code",
   "execution_count": 22,
   "metadata": {},
   "outputs": [
    {
     "name": "stdout",
     "output_type": "stream",
     "text": [
      "(247624, 192)\n",
      "(247624,)\n",
      "(247624,)\n"
     ]
    }
   ],
   "source": [
    "print(x_test_pl.shape)\n",
    "print(y_test.shape)\n",
    "print(weight_test.shape)"
   ]
  },
  {
   "cell_type": "markdown",
   "execution_count": null,
   "metadata": {},
   "source": [
    "### Tensorflow Dataset"
   ]
  },
  {
   "cell_type": "code",
   "execution_count": 23,
   "metadata": {},
   "outputs": [],
   "source": [
    "\n",
    "valid_dataset = (\n",
    "    tf.data.Dataset\n",
    "    .from_tensor_slices((x_valid, y_valid))\n",
    "    .batch(BATCH_SIZE)\n",
    "    .cache()\n",
    "    .prefetch(AUTO)\n",
    ")\n",
    "\n",
    "\n",
    "test_pl_dataset = (\n",
    "    tf.data.Dataset\n",
    "    .from_tensor_slices((x_test_pl, y_test, weight_test))\n",
    "    .batch(BATCH_SIZE)\n",
    "    .cache()\n",
    "    .prefetch(AUTO)\n",
    ")\n",
    "\n"
   ]
  },
  {
   "cell_type": "code",
   "execution_count": 24,
   "metadata": {},
   "outputs": [
    {
     "name": "stdout",
     "output_type": "stream",
     "text": [
      "Collecting keras-swa\r\n",
      "  Downloading keras-swa-0.1.5.tar.gz (77 kB)\r\n",
      "\u001b[K     |████████████████████████████████| 77 kB 1.9 MB/s \r\n",
      "\u001b[?25hBuilding wheels for collected packages: keras-swa\r\n",
      "  Building wheel for keras-swa (setup.py) ... \u001b[?25l-\b \b\\\b \bdone\r\n",
      "\u001b[?25h  Created wheel for keras-swa: filename=keras_swa-0.1.5-py3-none-any.whl size=9712 sha256=9bbff06a75f249b57163325e26b1615388236ac901c1bcf892de946178e25da1\r\n",
      "  Stored in directory: /root/.cache/pip/wheels/75/fa/17/c0a0e1d12843447b81a19a262ae416d0f7e08e604d5abbd3fe\r\n",
      "Successfully built keras-swa\r\n",
      "Installing collected packages: keras-swa\r\n",
      "Successfully installed keras-swa-0.1.5\r\n"
     ]
    }
   ],
   "source": [
    "!pip install keras-swa"
   ]
  },
  {
   "cell_type": "code",
   "execution_count": 25,
   "metadata": {},
   "outputs": [],
   "source": [
    "import math\n",
    "def build_cosine_annealing_lr(eta_min=3e-6, eta_max=1e-5, T_max=10):\n",
    "    def lrfn(epoch):\n",
    "        lr = eta_min + (eta_max - eta_min) * (1 + math.cos(math.pi * epoch / T_max)) / 2\n",
    "        return lr\n",
    "    return lrfn\n",
    "_lrfn = build_cosine_annealing_lr(eta_min=3e-6, eta_max=9e-6, T_max=2)\n",
    "lr_schedule = tf.keras.callbacks.LearningRateScheduler(_lrfn, verbose=1)"
   ]
  },
  {
   "cell_type": "code",
   "execution_count": 26,
   "metadata": {},
   "outputs": [],
   "source": [
    "from swa.tfkeras import SWA\n",
    "swa_cb = SWA(start_epoch=5, \n",
    "          lr_schedule='manual', \n",
    "          swa_lr=3e-6,\n",
    "          verbose=1)"
   ]
  },
  {
   "cell_type": "code",
   "execution_count": 27,
   "metadata": {},
   "outputs": [
    {
     "name": "stdout",
     "output_type": "stream",
     "text": [
      "\n",
      "Epoch 00001: LearningRateScheduler reducing learning rate to 9e-06.\n",
      "Epoch 1/15\n"
     ]
    },
    {
     "name": "stderr",
     "output_type": "stream",
     "text": [
      "/opt/conda/lib/python3.7/site-packages/tensorflow/python/framework/indexed_slices.py:431: UserWarning: Converting sparse IndexedSlices to a dense Tensor with 256002048 elements. This may consume a large amount of memory.\n",
      "  num_elements)\n"
     ]
    },
    {
     "name": "stdout",
     "output_type": "stream",
     "text": [
      "128/128 [==============================] - 91s 711ms/step - loss: 0.0223 - auc: 0.9768 - lr: 9.0000e-06 - val_loss: 0.0368 - val_auc: 0.9413\n",
      "\n",
      "Epoch 00002: LearningRateScheduler reducing learning rate to 6e-06.\n",
      "Epoch 2/15\n",
      "128/128 [==============================] - 60s 466ms/step - loss: 0.0209 - auc: 0.9801 - lr: 6.0000e-06 - val_loss: 0.0343 - val_auc: 0.9439\n",
      "\n",
      "Epoch 00003: LearningRateScheduler reducing learning rate to 3e-06.\n",
      "Epoch 3/15\n",
      "128/128 [==============================] - 60s 467ms/step - loss: 0.0197 - auc: 0.9827 - lr: 3.0000e-06 - val_loss: 0.0368 - val_auc: 0.9426\n",
      "\n",
      "Epoch 00004: LearningRateScheduler reducing learning rate to 5.999999999999999e-06.\n",
      "Epoch 4/15\n",
      "128/128 [==============================] - 60s 468ms/step - loss: 0.0194 - auc: 0.9826 - lr: 6.0000e-06 - val_loss: 0.0397 - val_auc: 0.9420\n",
      "\n",
      "Epoch 00005: starting stochastic weight averaging\n",
      "\n",
      "Epoch 00005: LearningRateScheduler reducing learning rate to 9e-06.\n",
      "Epoch 5/15\n",
      "128/128 [==============================] - 68s 531ms/step - loss: 0.0202 - auc: 0.9813 - lr: 9.0000e-06 - val_loss: 0.0424 - val_auc: 0.9399\n",
      "\n",
      "Epoch 00006: LearningRateScheduler reducing learning rate to 6.000000000000001e-06.\n",
      "Epoch 6/15\n",
      "128/128 [==============================] - 67s 520ms/step - loss: 0.0193 - auc: 0.9829 - lr: 6.0000e-06 - val_loss: 0.0397 - val_auc: 0.9404\n",
      "\n",
      "Epoch 00007: LearningRateScheduler reducing learning rate to 3e-06.\n",
      "Epoch 7/15\n",
      "128/128 [==============================] - 65s 510ms/step - loss: 0.0179 - auc: 0.9853 - lr: 3.0000e-06 - val_loss: 0.0465 - val_auc: 0.9379\n",
      "\n",
      "Epoch 00008: LearningRateScheduler reducing learning rate to 5.9999999999999985e-06.\n",
      "Epoch 8/15\n",
      "128/128 [==============================] - 66s 514ms/step - loss: 0.0176 - auc: 0.9862 - lr: 6.0000e-06 - val_loss: 0.0500 - val_auc: 0.9272\n",
      "\n",
      "Epoch 00009: LearningRateScheduler reducing learning rate to 9e-06.\n",
      "Epoch 9/15\n",
      "128/128 [==============================] - 66s 513ms/step - loss: 0.0180 - auc: 0.9857 - lr: 9.0000e-06 - val_loss: 0.0531 - val_auc: 0.9270\n",
      "\n",
      "Epoch 00010: LearningRateScheduler reducing learning rate to 6.000000000000002e-06.\n",
      "Epoch 10/15\n",
      "128/128 [==============================] - 66s 515ms/step - loss: 0.0181 - auc: 0.9856 - lr: 6.0000e-06 - val_loss: 0.0474 - val_auc: 0.9313\n",
      "\n",
      "Epoch 00011: LearningRateScheduler reducing learning rate to 3e-06.\n",
      "Epoch 11/15\n",
      "128/128 [==============================] - 65s 509ms/step - loss: 0.0168 - auc: 0.9878 - lr: 3.0000e-06 - val_loss: 0.0452 - val_auc: 0.9340\n",
      "\n",
      "Epoch 00012: LearningRateScheduler reducing learning rate to 5.999999999999993e-06.\n",
      "Epoch 12/15\n",
      "128/128 [==============================] - 66s 513ms/step - loss: 0.0173 - auc: 0.9873 - lr: 6.0000e-06 - val_loss: 0.0549 - val_auc: 0.9205\n",
      "\n",
      "Epoch 00013: LearningRateScheduler reducing learning rate to 9e-06.\n",
      "Epoch 13/15\n",
      "128/128 [==============================] - 65s 508ms/step - loss: 0.0169 - auc: 0.9872 - lr: 9.0000e-06 - val_loss: 0.0520 - val_auc: 0.9224\n",
      "\n",
      "Epoch 00014: LearningRateScheduler reducing learning rate to 5.999999999999997e-06.\n",
      "Epoch 14/15\n",
      "128/128 [==============================] - 66s 512ms/step - loss: 0.0169 - auc: 0.9871 - lr: 6.0000e-06 - val_loss: 0.0462 - val_auc: 0.9310\n",
      "\n",
      "Epoch 00015: LearningRateScheduler reducing learning rate to 3e-06.\n",
      "Epoch 15/15\n",
      "128/128 [==============================] - 66s 516ms/step - loss: 0.0163 - auc: 0.9886 - lr: 3.0000e-06 - val_loss: 0.0454 - val_auc: 0.9337\n",
      "\n",
      "Epoch 00016: final model weights set to stochastic weight average\n"
     ]
    },
    {
     "data": {
      "text/plain": [
       "<tensorflow.python.keras.callbacks.History at 0x7f2454737d90>"
      ]
     },
     "execution_count": 27,
     "metadata": {},
     "output_type": "execute_result"
    }
   ],
   "source": [
    "EPOCHS = 15\n",
    "n_steps = x_test_pl.shape[0] // BATCH_SIZE // EPOCHS\n",
    "model.fit(\n",
    "    test_pl_dataset.repeat(),\n",
    "    steps_per_epoch=n_steps,\n",
    "    validation_data=valid_dataset,\n",
    "    epochs=EPOCHS,\n",
    "    callbacks=[swa_cb, lr_schedule]\n",
    ")\n"
   ]
  },
  {
   "cell_type": "code",
   "execution_count": 28,
   "metadata": {},
   "outputs": [
    {
     "name": "stdout",
     "output_type": "stream",
     "text": [
      "63/63 [==============================] - 16s 256ms/step\n",
      "valid auc 0.9411753791836293\n"
     ]
    }
   ],
   "source": [
    "valid_pred_dataset = (\n",
    "    tf.data.Dataset\n",
    "    .from_tensor_slices(x_valid)\n",
    "    .batch(BATCH_SIZE)\n",
    ")\n",
    "valid['pred'] = model.predict(valid_pred_dataset, verbose=1)\n",
    "## early stop didn't save best model\n",
    "print(\"valid auc\", roc_auc_score(valid['toxic'], valid['pred']))\n",
    "\n",
    "valid.to_csv('valid_pred.csv', index=False)"
   ]
  },
  {
   "cell_type": "code",
   "execution_count": 29,
   "metadata": {},
   "outputs": [
    {
     "name": "stdout",
     "output_type": "stream",
     "text": [
      "499/499 [==============================] - 63s 126ms/step\n"
     ]
    }
   ],
   "source": [
    "test_pred_dataset = (\n",
    "    tf.data.Dataset\n",
    "    .from_tensor_slices(x_test)\n",
    "    .batch(BATCH_SIZE)\n",
    ")\n",
    "test['pred'] = model.predict(test_pred_dataset, verbose=1)\n",
    "test.to_csv('test_pred.csv', index=False)"
   ]
  },
  {
   "cell_type": "markdown",
   "execution_count": null,
   "metadata": {},
   "source": [
    "# Save Model"
   ]
  },
  {
   "cell_type": "code",
   "execution_count": 30,
   "metadata": {},
   "outputs": [
    {
     "name": "stdout",
     "output_type": "stream",
     "text": [
      "CPU times: user 1.98 s, sys: 3.62 s, total: 5.6 s\n",
      "Wall time: 8.16 s\n"
     ]
    }
   ],
   "source": [
    "%%time\n",
    "MODEL_NAME = \"model.h5\"\n",
    "model.save_weights(\"model.h5\")\n",
    "## TO LOAD:\n",
    "# with strategy.scope():\n",
    "#     model2 = build_model(transformer_layer, max_len=MAX_LEN)\n",
    "#     model2.load_weights(\"model.h5\")"
   ]
  }
 ],
 "metadata": {
  "kernelspec": {
   "display_name": "Python 3",
   "language": "python",
   "name": "python3"
  },
  "language_info": {
   "codemirror_mode": {
    "name": "ipython",
    "version": 3
   },
   "file_extension": ".py",
   "mimetype": "text/x-python",
   "name": "python",
   "nbconvert_exporter": "python",
   "pygments_lexer": "ipython3",
   "version": "3.7.6"
  }
 },
 "nbformat": 4,
 "nbformat_minor": 4
}
