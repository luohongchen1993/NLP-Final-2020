{
 "cells": [
  {
   "cell_type": "code",
   "execution_count": 1,
   "metadata": {},
   "outputs": [],
   "source": [
    "import sys\n",
    "sys.path.append(\"/kaggle/input/stacknetexample/pystacknet/\")\n",
    "import pystacknet"
   ]
  },
  {
   "cell_type": "code",
   "execution_count": 2,
   "metadata": {},
   "outputs": [],
   "source": [
    "import gc\n",
    "import pandas as pd\n",
    "import numpy as np\n",
    "from glob import glob\n",
    "from sklearn.metrics import roc_auc_score, log_loss, accuracy_score\n",
    "sub = pd.read_csv('/kaggle/input/jigsaw-multilingual-toxic-comment-classification/sample_submission.csv')\n",
    "true_toxic = pd.read_csv('/kaggle/input/jigsaw-multilingual-toxic-comment-classification/validation.csv')['toxic'].values"
   ]
  },
  {
   "cell_type": "code",
   "execution_count": 3,
   "metadata": {},
   "outputs": [],
   "source": [
    "data_dir = '/kaggle/input/prep-stack-data-0622/'\n",
    "valid = pd.read_pickle(data_dir + 'valid_pred.pkl')\n",
    "test = pd.read_pickle(data_dir + 'test_pred.pkl')\n",
    "test = test[valid.columns]"
   ]
  },
  {
   "cell_type": "code",
   "execution_count": 4,
   "metadata": {},
   "outputs": [
    {
     "name": "stdout",
     "output_type": "stream",
     "text": [
      "(8000, 1909)\n",
      "(63812, 1909)\n"
     ]
    }
   ],
   "source": [
    "print(valid.shape)\n",
    "print(test.shape)"
   ]
  },
  {
   "cell_type": "code",
   "execution_count": 5,
   "metadata": {},
   "outputs": [],
   "source": [
    "assert valid.min().min() >= 0\n",
    "assert valid.max().max() <= 1\n",
    "assert test.min().min() >= 0\n",
    "assert test.max().max() <= 1\n",
    "pred_list = [col for col in valid.columns if \"pred\" in col and \\\n",
    "             \"train_only\" not in col \\\n",
    "             and col in test.columns and \\\n",
    "             \"lol_auxcluster_finetune_a1\" not in col]"
   ]
  },
  {
   "cell_type": "code",
   "execution_count": 6,
   "metadata": {},
   "outputs": [
    {
     "data": {
      "text/plain": [
       "1909"
      ]
     },
     "execution_count": 6,
     "metadata": {},
     "output_type": "execute_result"
    }
   ],
   "source": [
    "len(pred_list)"
   ]
  },
  {
   "cell_type": "code",
   "execution_count": 7,
   "metadata": {},
   "outputs": [],
   "source": [
    "import warnings\n",
    "warnings.simplefilter(action='ignore')"
   ]
  },
  {
   "cell_type": "code",
   "execution_count": 8,
   "metadata": {},
   "outputs": [],
   "source": [
    "from pystacknet.pystacknet import StackNetRegressor, StackNetClassifier\n",
    "from sklearn.linear_model import Ridge, LogisticRegression\n",
    "from xgboost import XGBClassifier\n",
    "from lightgbm import LGBMClassifier\n",
    "from catboost import CatBoostClassifier\n",
    "from sklearn.ensemble import ExtraTreesClassifier, RandomForestClassifier\n",
    "from sklearn.svm import LinearSVC\n",
    "from sklearn.metrics import mean_squared_error\n",
    "from scipy.stats import pearsonr\n",
    "\n",
    "#PARAMETERS\n",
    "FOLDS=np.load('/kaggle/input/fork-of-jmt-prep-stratified-5cv/skf_split.npy', allow_pickle=True)\n",
    "METRIC=\"auc\"\n",
    "RESTACKING=True # whether we should add previous layer into next layers, if True, add base features to 2nd layer fitting\n",
    "RETRAIN=False # do not refit the whole model on whole data\n",
    "USE_PROBA=True\n",
    "SEED=42\n",
    "VERBOSE=1\n",
    "\n",
    "#### for more exotic models like keras customized models, refer to:\n",
    "# https://github.com/h2oai/pystacknet/blob/master/pystacknet/notebook/StackNetRegressor_Example.ipynb\n",
    "\n",
    "models=[\n",
    "    ### each level is a list of models ###\n",
    "    \n",
    "    ### 1ST level ###\n",
    "    [\n",
    "        ExtraTreesClassifier(**{'max_depth': 18,\n",
    "                             'max_features': 8,\n",
    "                             'max_leaf_nodes': 196,\n",
    "                             'min_samples_leaf': 2,\n",
    "                             'min_samples_split': 9,\n",
    "                             'n_estimators': 1000,\n",
    "                             'criterion': 'entropy',\n",
    "                             'n_jobs': -1,\n",
    "                             'random_state': 23}\n",
    "                            ),\n",
    "        RandomForestClassifier(**{'max_depth': 10,\n",
    "                             'max_features': 3,\n",
    "                             'max_leaf_nodes': 32,\n",
    "                             'min_samples_leaf': 10,\n",
    "                             'min_samples_split': 40,\n",
    "                             'n_estimators': 1000,\n",
    "                             'criterion': 'entropy',\n",
    "                             'n_jobs': -1,\n",
    "                             'random_state': 24}),\n",
    "        ExtraTreesClassifier(**{'max_depth': 10,\n",
    "                             'max_features': 4,\n",
    "                             'max_leaf_nodes': 64,\n",
    "                             'min_samples_leaf': 20,\n",
    "                             'min_samples_split': 50,\n",
    "                             'n_estimators': 1000,\n",
    "                             'criterion': 'entropy',\n",
    "                             'n_jobs': -1,\n",
    "                             'random_state': 25}\n",
    "                            ),\n",
    "        RandomForestClassifier(**{'max_depth': 5,\n",
    "                             'max_features': 4,\n",
    "                             'max_leaf_nodes': 128,\n",
    "                             'min_samples_leaf': 30,\n",
    "                             'min_samples_split': 60,\n",
    "                             'n_estimators': 1000,\n",
    "                             'criterion': 'entropy',\n",
    "                             'n_jobs': -1,\n",
    "                             'random_state': 26}),\n",
    "        LGBMClassifier(**{\n",
    "                        'objective':'binary',\n",
    "                        'boosting_type':'rf',\n",
    "                        'metric':'auc',\n",
    "                        'n_jobs':-1,\n",
    "                        'learning_rate':0.0001,\n",
    "                        'num_leaves': 5,\n",
    "                        'max_depth': 3,\n",
    "                        'tree_learner':'serial',\n",
    "                        'colsample_bytree': 0.5,\n",
    "                        'subsample_freq':1,\n",
    "                        'subsample': 0.5,\n",
    "                        'n_estimators': 1000,\n",
    "                        'max_bin': 255,\n",
    "                        'verbose': 0,\n",
    "                        'seed': SEED,\n",
    "                    }),\n",
    "        XGBClassifier(**{\n",
    "                        'n_estimators': 1000,\n",
    "                        'max_depth': 9,\n",
    "                        'learning_rate': 0.03,\n",
    "                        'subsample': 0.77,\n",
    "                        'colsample_bytree': 0.414,\n",
    "                        'missing': -999,\n",
    "                        'random_state': SEED,\n",
    "                        'eval_metric': 'auc',\n",
    "                        'reg_alpha': 0.3,\n",
    "                        'reg_lambda': 0.3,\n",
    "                        'tree_method':'hist'\n",
    "                    }),\n",
    "    ] + [\n",
    "        LogisticRegression(C=1.0/my_C, l1_ratio=0)\n",
    "        for my_C in range(1, 11)\n",
    "    ] + [\n",
    "        LogisticRegression(C=1.0/my_C, l1_ratio=1.0)\n",
    "        for my_C in range(1, 11)\n",
    "    ],\n",
    "    \n",
    "        ### 2ND level ###\n",
    "        [\n",
    "            ExtraTreesClassifier(**{'max_depth': 18,\n",
    "                             'max_features': 8,\n",
    "                             'max_leaf_nodes': 196,\n",
    "                             'min_samples_leaf': 2,\n",
    "                             'min_samples_split': 9,\n",
    "                             'n_estimators': 1935,\n",
    "                             'criterion': 'entropy',\n",
    "                             'n_jobs': -1,\n",
    "                             'random_state': 23}\n",
    "                            )\n",
    "        ],\n",
    "\n",
    "]\n",
    "\n",
    "#MODEL STATEMENT\n",
    "model=StackNetClassifier(models, metric=METRIC, folds=FOLDS,\n",
    "    restacking=RESTACKING, use_retraining=RETRAIN, use_proba=USE_PROBA,\n",
    "    random_state=SEED, verbose=VERBOSE)"
   ]
  },
  {
   "cell_type": "code",
   "execution_count": 9,
   "metadata": {},
   "outputs": [
    {
     "name": "stdout",
     "output_type": "stream",
     "text": [
      "====================== Start of Level 0 ======================\n",
      "Input Dimensionality 1909 at Level 0 \n",
      "26 models included in Level 0 \n",
      "Fold 1/5 , model 0 , auc===0.953582 \n",
      "Fold 1/5 , model 1 , auc===0.953543 \n",
      "Fold 1/5 , model 2 , auc===0.952691 \n",
      "Fold 1/5 , model 3 , auc===0.953465 \n",
      "Fold 1/5 , model 4 , auc===0.953813 \n",
      "Fold 1/5 , model 5 , auc===0.954240 \n",
      "Fold 1/5 , model 6 , auc===0.949814 \n",
      "Fold 1/5 , model 7 , auc===0.952138 \n",
      "Fold 1/5 , model 8 , auc===0.953759 \n",
      "Fold 1/5 , model 9 , auc===0.953759 \n",
      "Fold 1/5 , model 10 , auc===0.954294 \n",
      "Fold 1/5 , model 11 , auc===0.954933 \n",
      "Fold 1/5 , model 12 , auc===0.954813 \n",
      "Fold 1/5 , model 13 , auc===0.954903 \n",
      "Fold 1/5 , model 14 , auc===0.955077 \n",
      "Fold 1/5 , model 15 , auc===0.955927 \n",
      "Fold 1/5 , model 16 , auc===0.949814 \n",
      "Fold 1/5 , model 17 , auc===0.952138 \n",
      "Fold 1/5 , model 18 , auc===0.953759 \n",
      "Fold 1/5 , model 19 , auc===0.953759 \n",
      "Fold 1/5 , model 20 , auc===0.954294 \n",
      "Fold 1/5 , model 21 , auc===0.954933 \n",
      "Fold 1/5 , model 22 , auc===0.954813 \n",
      "Fold 1/5 , model 23 , auc===0.954903 \n",
      "Fold 1/5 , model 24 , auc===0.955077 \n",
      "Fold 1/5 , model 25 , auc===0.955927 \n",
      "=========== end of fold 1 in level 0 ===========\n",
      "Fold 2/5 , model 0 , auc===0.964063 \n",
      "Fold 2/5 , model 1 , auc===0.964069 \n",
      "Fold 2/5 , model 2 , auc===0.962922 \n",
      "Fold 2/5 , model 3 , auc===0.963760 \n",
      "Fold 2/5 , model 4 , auc===0.965027 \n",
      "Fold 2/5 , model 5 , auc===0.961397 \n",
      "Fold 2/5 , model 6 , auc===0.960716 \n",
      "Fold 2/5 , model 7 , auc===0.962919 \n",
      "Fold 2/5 , model 8 , auc===0.963856 \n",
      "Fold 2/5 , model 9 , auc===0.964865 \n",
      "Fold 2/5 , model 10 , auc===0.965126 \n",
      "Fold 2/5 , model 11 , auc===0.965456 \n",
      "Fold 2/5 , model 12 , auc===0.965795 \n",
      "Fold 2/5 , model 13 , auc===0.966027 \n",
      "Fold 2/5 , model 14 , auc===0.966846 \n",
      "Fold 2/5 , model 15 , auc===0.966234 \n",
      "Fold 2/5 , model 16 , auc===0.960716 \n",
      "Fold 2/5 , model 17 , auc===0.962919 \n",
      "Fold 2/5 , model 18 , auc===0.963856 \n",
      "Fold 2/5 , model 19 , auc===0.964865 \n",
      "Fold 2/5 , model 20 , auc===0.965126 \n",
      "Fold 2/5 , model 21 , auc===0.965456 \n",
      "Fold 2/5 , model 22 , auc===0.965795 \n",
      "Fold 2/5 , model 23 , auc===0.966027 \n",
      "Fold 2/5 , model 24 , auc===0.966846 \n",
      "Fold 2/5 , model 25 , auc===0.966234 \n",
      "=========== end of fold 2 in level 0 ===========\n",
      "Fold 3/5 , model 0 , auc===0.960776 \n",
      "Fold 3/5 , model 1 , auc===0.960508 \n",
      "Fold 3/5 , model 2 , auc===0.959845 \n",
      "Fold 3/5 , model 3 , auc===0.960526 \n",
      "Fold 3/5 , model 4 , auc===0.959983 \n",
      "Fold 3/5 , model 5 , auc===0.960001 \n",
      "Fold 3/5 , model 6 , auc===0.956597 \n",
      "Fold 3/5 , model 7 , auc===0.958128 \n",
      "Fold 3/5 , model 8 , auc===0.958893 \n",
      "Fold 3/5 , model 9 , auc===0.959551 \n",
      "Fold 3/5 , model 10 , auc===0.959836 \n",
      "Fold 3/5 , model 11 , auc===0.960112 \n",
      "Fold 3/5 , model 12 , auc===0.960055 \n",
      "Fold 3/5 , model 13 , auc===0.960475 \n",
      "Fold 3/5 , model 14 , auc===0.960590 \n",
      "Fold 3/5 , model 15 , auc===0.960617 \n",
      "Fold 3/5 , model 16 , auc===0.956597 \n",
      "Fold 3/5 , model 17 , auc===0.958128 \n",
      "Fold 3/5 , model 18 , auc===0.958893 \n",
      "Fold 3/5 , model 19 , auc===0.959551 \n",
      "Fold 3/5 , model 20 , auc===0.959836 \n",
      "Fold 3/5 , model 21 , auc===0.960112 \n",
      "Fold 3/5 , model 22 , auc===0.960055 \n",
      "Fold 3/5 , model 23 , auc===0.960475 \n",
      "Fold 3/5 , model 24 , auc===0.960590 \n",
      "Fold 3/5 , model 25 , auc===0.960617 \n",
      "=========== end of fold 3 in level 0 ===========\n",
      "Fold 4/5 , model 0 , auc===0.962574 \n",
      "Fold 4/5 , model 1 , auc===0.962106 \n",
      "Fold 4/5 , model 2 , auc===0.961472 \n",
      "Fold 4/5 , model 3 , auc===0.962199 \n",
      "Fold 4/5 , model 4 , auc===0.963559 \n",
      "Fold 4/5 , model 5 , auc===0.964453 \n",
      "Fold 4/5 , model 6 , auc===0.957833 \n",
      "Fold 4/5 , model 7 , auc===0.961418 \n",
      "Fold 4/5 , model 8 , auc===0.962160 \n",
      "Fold 4/5 , model 9 , auc===0.963051 \n",
      "Fold 4/5 , model 10 , auc===0.962931 \n",
      "Fold 4/5 , model 11 , auc===0.963658 \n",
      "Fold 4/5 , model 12 , auc===0.963856 \n",
      "Fold 4/5 , model 13 , auc===0.964282 \n",
      "Fold 4/5 , model 14 , auc===0.964003 \n",
      "Fold 4/5 , model 15 , auc===0.963940 \n",
      "Fold 4/5 , model 16 , auc===0.957833 \n",
      "Fold 4/5 , model 17 , auc===0.961418 \n",
      "Fold 4/5 , model 18 , auc===0.962160 \n",
      "Fold 4/5 , model 19 , auc===0.963051 \n",
      "Fold 4/5 , model 20 , auc===0.962931 \n",
      "Fold 4/5 , model 21 , auc===0.963658 \n",
      "Fold 4/5 , model 22 , auc===0.963856 \n",
      "Fold 4/5 , model 23 , auc===0.964282 \n",
      "Fold 4/5 , model 24 , auc===0.964003 \n",
      "Fold 4/5 , model 25 , auc===0.963940 \n",
      "=========== end of fold 4 in level 0 ===========\n",
      "Fold 5/5 , model 0 , auc===0.962811 \n",
      "Fold 5/5 , model 1 , auc===0.962838 \n",
      "Fold 5/5 , model 2 , auc===0.962157 \n",
      "Fold 5/5 , model 3 , auc===0.962064 \n",
      "Fold 5/5 , model 4 , auc===0.961672 \n",
      "Fold 5/5 , model 5 , auc===0.959377 \n",
      "Fold 5/5 , model 6 , auc===0.948899 \n",
      "Fold 5/5 , model 7 , auc===0.952931 \n",
      "Fold 5/5 , model 8 , auc===0.954639 \n",
      "Fold 5/5 , model 9 , auc===0.955591 \n",
      "Fold 5/5 , model 10 , auc===0.956215 \n",
      "Fold 5/5 , model 11 , auc===0.957011 \n",
      "Fold 5/5 , model 12 , auc===0.957584 \n",
      "Fold 5/5 , model 13 , auc===0.957972 \n",
      "Fold 5/5 , model 14 , auc===0.957707 \n",
      "Fold 5/5 , model 15 , auc===0.958473 \n",
      "Fold 5/5 , model 16 , auc===0.948899 \n",
      "Fold 5/5 , model 17 , auc===0.952931 \n",
      "Fold 5/5 , model 18 , auc===0.954639 \n",
      "Fold 5/5 , model 19 , auc===0.955591 \n",
      "Fold 5/5 , model 20 , auc===0.956215 \n",
      "Fold 5/5 , model 21 , auc===0.957011 \n",
      "Fold 5/5 , model 22 , auc===0.957584 \n",
      "Fold 5/5 , model 23 , auc===0.957972 \n",
      "Fold 5/5 , model 24 , auc===0.957707 \n",
      "Fold 5/5 , model 25 , auc===0.958473 \n",
      "=========== end of fold 5 in level 0 ===========\n",
      "Level 0, model 0 , auc===0.960761 \n",
      "Level 0, model 1 , auc===0.960613 \n",
      "Level 0, model 2 , auc===0.959817 \n",
      "Level 0, model 3 , auc===0.960403 \n",
      "Level 0, model 4 , auc===0.960811 \n",
      "Level 0, model 5 , auc===0.959894 \n",
      "Level 0, model 6 , auc===0.954772 \n",
      "Level 0, model 7 , auc===0.957507 \n",
      "Level 0, model 8 , auc===0.958661 \n",
      "Level 0, model 9 , auc===0.959363 \n",
      "Level 0, model 10 , auc===0.959680 \n",
      "Level 0, model 11 , auc===0.960234 \n",
      "Level 0, model 12 , auc===0.960421 \n",
      "Level 0, model 13 , auc===0.960732 \n",
      "Level 0, model 14 , auc===0.960845 \n",
      "Level 0, model 15 , auc===0.961038 \n",
      "Level 0, model 16 , auc===0.954772 \n",
      "Level 0, model 17 , auc===0.957507 \n",
      "Level 0, model 18 , auc===0.958661 \n",
      "Level 0, model 19 , auc===0.959363 \n",
      "Level 0, model 20 , auc===0.959680 \n",
      "Level 0, model 21 , auc===0.960234 \n",
      "Level 0, model 22 , auc===0.960421 \n",
      "Level 0, model 23 , auc===0.960732 \n",
      "Level 0, model 24 , auc===0.960845 \n",
      "Level 0, model 25 , auc===0.961038 \n",
      "Output dimensionality of level 0 is 26 \n",
      "====================== End of Level 0 ======================\n",
      " level 0 lasted 1713.969693 seconds \n",
      "====================== Start of Level 1 ======================\n",
      "Input Dimensionality 1935 at Level 1 \n",
      "1 models included in Level 1 \n",
      "Fold 1/5 , model 0 , auc===0.953852 \n",
      "=========== end of fold 1 in level 1 ===========\n",
      "Fold 2/5 , model 0 , auc===0.964658 \n",
      "=========== end of fold 2 in level 1 ===========\n",
      "Fold 3/5 , model 0 , auc===0.961046 \n",
      "=========== end of fold 3 in level 1 ===========\n",
      "Fold 4/5 , model 0 , auc===0.962868 \n",
      "=========== end of fold 4 in level 1 ===========\n",
      "Fold 5/5 , model 0 , auc===0.962259 \n",
      "=========== end of fold 5 in level 1 ===========\n",
      "Level 1, model 0 , auc===0.960937 \n",
      "Output dimensionality of level 1 is 1 \n",
      "====================== End of Level 1 ======================\n",
      " level 1 lasted 65.173921 seconds \n",
      "====================== End of fit ======================\n",
      " fit() lasted 1779.144837 seconds \n"
     ]
    }
   ],
   "source": [
    "#MODEL FIT\n",
    "oof = model.fit_oof(valid[pred_list].values, true_toxic)"
   ]
  },
  {
   "cell_type": "code",
   "execution_count": 10,
   "metadata": {},
   "outputs": [
    {
     "name": "stdout",
     "output_type": "stream",
     "text": [
      "level = 1 model_idx = 0 0.960127775576131\n",
      "level = 1 model_idx = 1 0.9600174130249426\n",
      "level = 1 model_idx = 2 0.9594468662559595\n",
      "level = 1 model_idx = 3 0.9598043736715063\n",
      "level = 1 model_idx = 4 0.9590931416699692\n",
      "level = 1 model_idx = 5 0.9593401063995869\n",
      "level = 1 model_idx = 6 0.9544851148659197\n",
      "level = 1 model_idx = 7 0.957217038344682\n",
      "level = 1 model_idx = 8 0.958246568433188\n",
      "level = 1 model_idx = 9 0.9590295541064717\n",
      "level = 1 model_idx = 10 0.9593088830445172\n",
      "level = 1 model_idx = 11 0.959795366934467\n",
      "level = 1 model_idx = 12 0.9599388742779598\n",
      "level = 1 model_idx = 13 0.960284612890442\n",
      "level = 1 model_idx = 14 0.9603522234631504\n",
      "level = 1 model_idx = 15 0.9606574918038693\n",
      "level = 1 model_idx = 16 0.9544851148659197\n",
      "level = 1 model_idx = 17 0.957217038344682\n",
      "level = 1 model_idx = 18 0.958246568433188\n",
      "level = 1 model_idx = 19 0.9590295541064717\n",
      "level = 1 model_idx = 20 0.9593088830445172\n",
      "level = 1 model_idx = 21 0.959795366934467\n",
      "level = 1 model_idx = 22 0.9599388742779598\n",
      "level = 1 model_idx = 23 0.960284612890442\n",
      "level = 1 model_idx = 24 0.9603522234631504\n",
      "level = 1 model_idx = 25 0.9606574918038693\n",
      "level = 2 model_idx = 0 0.9602312930071693\n"
     ]
    }
   ],
   "source": [
    "for level in [1, 2]:\n",
    "    for model_idx in range(len(models[level-1])):\n",
    "        print(\"level =\", level, \"model_idx =\", model_idx, roc_auc_score(true_toxic, oof[level-1][:, model_idx]))"
   ]
  },
  {
   "cell_type": "code",
   "execution_count": 11,
   "metadata": {},
   "outputs": [
    {
     "name": "stdout",
     "output_type": "stream",
     "text": [
      "====================== Start of Level 0 ======================\n",
      "5 estimators included in Level 0 \n",
      "====================== Start of Level 1 ======================\n",
      "5 estimators included in Level 1 \n",
      "CPU times: user 9min 38s, sys: 17.9 s, total: 9min 56s\n",
      "Wall time: 3min 27s\n"
     ]
    }
   ],
   "source": [
    "%%time\n",
    "test_pred = model.predict_proba(test[pred_list].values)[:, 1]"
   ]
  },
  {
   "cell_type": "code",
   "execution_count": 12,
   "metadata": {},
   "outputs": [
    {
     "data": {
      "text/plain": [
       "<matplotlib.axes._subplots.AxesSubplot at 0x7f0ebff3fe90>"
      ]
     },
     "execution_count": 12,
     "metadata": {},
     "output_type": "execute_result"
    },
    {
     "data": {
      "image/png": "[encoded data removed]",
      "text/plain": [
       "<Figure size 432x288 with 1 Axes>"
      ]
     },
     "metadata": {
      "needs_background": "light"
     },
     "output_type": "display_data"
    }
   ],
   "source": [
    "pd.Series(test_pred).iloc[:100].plot()"
   ]
  },
  {
   "cell_type": "code",
   "execution_count": 13,
   "metadata": {},
   "outputs": [],
   "source": [
    "sub['toxic'] = test_pred\n",
    "sub.to_csv(\"submission.csv\", index=False)"
   ]
  },
  {
   "cell_type": "code",
   "execution_count": 14,
   "metadata": {},
   "outputs": [],
   "source": [
    "val_orig = pd.read_csv('/kaggle/input/jigsaw-multilingual-toxic-comment-classification/validation.csv')\n",
    "val_orig['pred'] = oof[-1]\n",
    "val_orig.to_csv(\"valid_pred.csv\", index=False)\n",
    "\n",
    "test_orig = pd.read_csv('/kaggle/input/jigsaw-multilingual-toxic-comment-classification/test.csv')\n",
    "test_orig['pred'] = test_pred\n",
    "test_orig.to_csv(\"test_pred.csv\", index=False)"
   ]
  }
 ],
 "metadata": {
  "kernelspec": {
   "display_name": "Python 3",
   "language": "python",
   "name": "python3"
  },
  "language_info": {
   "codemirror_mode": {
    "name": "ipython",
    "version": 3
   },
   "file_extension": ".py",
   "mimetype": "text/x-python",
   "name": "python",
   "nbconvert_exporter": "python",
   "pygments_lexer": "ipython3",
   "version": "3.7.6"
  }
 },
 "nbformat": 4,
 "nbformat_minor": 4
}
